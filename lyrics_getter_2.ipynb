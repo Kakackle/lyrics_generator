{
 "cells": [
  {
   "cell_type": "markdown",
   "id": "aa7b33c9-1a2d-4101-8049-85948614fb16",
   "metadata": {},
   "source": [
    "Jesli nie bedzie dzialalo mozesz sprobowac pobierac recznie utwor po utworze z try except, tak jak w:\n",
    "\n",
    "https://lyricsgenius.readthedocs.io/en/master/examples/snippets.html#snippets\n",
    "\n",
    "chociaz dodanie kilku retries wyglada ze pomaga, ale to raczej bandaz a nie rozwiazanie problemu, ze czasem strona timeoutuje"
   ]
  },
  {
   "cell_type": "code",
   "execution_count": 1,
   "id": "a43b2185-7428-431a-895f-196fb0959da1",
   "metadata": {},
   "outputs": [],
   "source": [
    "from lyricsgenius import Genius"
   ]
  },
  {
   "cell_type": "code",
   "execution_count": 8,
   "id": "0539525f-84f2-4117-acef-097cdaeb6864",
   "metadata": {},
   "outputs": [],
   "source": [
    "token = \"b9lZQWs8rZ0Jhcd1rA9MWGmm5cQdvMCWnsdn7LvIjNYf_9tN2qreQmsJnCcOT9ap\""
   ]
  },
  {
   "cell_type": "code",
   "execution_count": 33,
   "id": "13c1b560-cdb8-456c-9f66-96a608309ee7",
   "metadata": {},
   "outputs": [],
   "source": [
    "artist = 'jay-z' #Ghostface Killah, Taylor Swift, Aesop Rock, Pusha T, Kanye West, pezet, Kendrick\n",
    "max_songs = 40\n",
    "file_name = artist.replace(' ', '').lower()\n",
    "file_name += '_' + str(max_songs)\n",
    "sort_by = 'popularity'\n",
    "excluded_terms = [\"(Remix)\", \"(Live), (Instrumental)\"]"
   ]
  },
  {
   "cell_type": "code",
   "execution_count": 37,
   "id": "5cd05b1f-f0fa-44af-b960-f3cc6dec7faf",
   "metadata": {},
   "outputs": [
    {
     "name": "stdout",
     "output_type": "stream",
     "text": [
      "Searching for songs by jay-z...\n",
      "\n",
      "Changing artist name to 'JAY-Z'\n",
      "Song 1: \"Holy Grail\"\n",
      "Song 2: \"Empire State of Mind\"\n",
      "Song 3: \"Part II (On the Run)\"\n",
      "Song 4: \"The Story of O.J.\"\n",
      "Song 5: \"4:44\"\n",
      "Song 6: \"Tom Ford\"\n",
      "Song 7: \"FuckWithMeYouKnowIGotIt\"\n",
      "Song 8: \"Renegade\"\n",
      "Song 9: \"99 Problems\"\n",
      "\"Bitch, Don’t Kill My Vibe (Remix)\" is not valid. Skipping.\n",
      "Song 10: \"Oceans\"\n",
      "Song 11: \"Run This Town\"\n",
      "\"Savage Remix\" is not valid. Skipping.\n",
      "Song 12: \"Kill Jay Z\"\n",
      "Song 13: \"Takeover\"\n",
      "Song 14: \"Big Pimpin’\"\n",
      "Song 15: \"Family Feud\"\n",
      "\"Drunk In Love (Remix)\" is not valid. Skipping.\n",
      "Song 16: \"Picasso Baby\"\n",
      "Song 17: \"Public Service Announcement\"\n",
      "Song 18: \"Song Cry\"\n",
      "Song 19: \"Smile\"\n",
      "\"Drunk in Love (Remix)\" is not valid. Skipping.\n",
      "Song 20: \"Open Letter\"\n",
      "\"Diamonds From Sierra Leone (Remix)\" is not valid. Skipping.\n",
      "Song 21: \"’03 Bonnie & Clyde\"\n",
      "Song 22: \"Izzo (H.O.V.A.)\"\n",
      "Song 23: \"Bam\"\n",
      "Song 24: \"Heaven\"\n",
      "Song 25: \"Young Forever\"\n",
      "Song 26: \"BBC\"\n",
      "Song 27: \"Beach Is Better (Interlude)\"\n",
      "Song 28: \"Somewhereinamerica\"\n",
      "Song 29: \"Crown\"\n",
      "Song 30: \"D’Evils\"\n",
      "Song 31: \"Hard Knock Life (Ghetto Anthem)\"\n",
      "Song 32: \"La Familia\"\n",
      "Song 33: \"Marcy Me\"\n",
      "Song 34: \"Can I Live\"\n",
      "Song 35: \"Dead Presidents II\"\n",
      "Song 36: \"F.U.T.W\"\n",
      "Song 37: \"Lucifer\"\n",
      "Song 38: \"U Don’t Know\"\n",
      "Song 39: \"Caught Their Eyes\"\n",
      "Song 40: \"Can I Get A…\"\n",
      "\n",
      "Reached user-specified song limit (40).\n",
      "Done. Found 40 songs.\n",
      "[Song(id, artist, ...), Song(id, artist, ...), Song(id, artist, ...), Song(id, artist, ...), Song(id, artist, ...), Song(id, artist, ...), Song(id, artist, ...), Song(id, artist, ...), Song(id, artist, ...), Song(id, artist, ...), Song(id, artist, ...), Song(id, artist, ...), Song(id, artist, ...), Song(id, artist, ...), Song(id, artist, ...), Song(id, artist, ...), Song(id, artist, ...), Song(id, artist, ...), Song(id, artist, ...), Song(id, artist, ...), Song(id, artist, ...), Song(id, artist, ...), Song(id, artist, ...), Song(id, artist, ...), Song(id, artist, ...), Song(id, artist, ...), Song(id, artist, ...), Song(id, artist, ...), Song(id, artist, ...), Song(id, artist, ...), Song(id, artist, ...), Song(id, artist, ...), Song(id, artist, ...), Song(id, artist, ...), Song(id, artist, ...), Song(id, artist, ...), Song(id, artist, ...), Song(id, artist, ...), Song(id, artist, ...), Song(id, artist, ...)]\n"
     ]
    }
   ],
   "source": [
    "genius = Genius(token)\n",
    "\n",
    "# Turn off status messages\n",
    "genius.verbose = True\n",
    "\n",
    "# Remove section headers (e.g. [Chorus]) from lyrics when searching\n",
    "genius.remove_section_headers = True\n",
    "\n",
    "genius.skip_non_songs = True\n",
    "\n",
    "# Exclude songs with these words in their title\n",
    "genius.excluded_terms = excluded_terms\n",
    "\n",
    "genius.retries = 5\n",
    "\n",
    "artist = genius.search_artist(artist, max_songs=max_songs, sort=sort_by)\n",
    "print(artist.songs)"
   ]
  },
  {
   "cell_type": "code",
   "execution_count": 35,
   "id": "f75f9548-2dde-4be5-ba8d-77439d2fe6da",
   "metadata": {},
   "outputs": [
    {
     "ename": "AttributeError",
     "evalue": "'str' object has no attribute 'save_lyrics'",
     "output_type": "error",
     "traceback": [
      "\u001b[1;31m---------------------------------------------------------------------------\u001b[0m",
      "\u001b[1;31mAttributeError\u001b[0m                            Traceback (most recent call last)",
      "Cell \u001b[1;32mIn[35], line 1\u001b[0m\n\u001b[1;32m----> 1\u001b[0m \u001b[43martist\u001b[49m\u001b[38;5;241;43m.\u001b[39;49m\u001b[43msave_lyrics\u001b[49m(filename\u001b[38;5;241m=\u001b[39mfile_name, extension\u001b[38;5;241m=\u001b[39m\u001b[38;5;124m\"\u001b[39m\u001b[38;5;124mjson\u001b[39m\u001b[38;5;124m\"\u001b[39m)\n",
      "\u001b[1;31mAttributeError\u001b[0m: 'str' object has no attribute 'save_lyrics'"
     ]
    }
   ],
   "source": [
    "artist.save_lyrics(filename=file_name, extension=\"json\")"
   ]
  },
  {
   "cell_type": "code",
   "execution_count": null,
   "id": "64bbceb9-d43a-412b-8e16-df5c6ce7af15",
   "metadata": {},
   "outputs": [],
   "source": [
    "import json\n",
    "json_file = open(f'{file_name}.json')\n",
    "song_obj = json.load(json_file)\n",
    "json_file.close()"
   ]
  },
  {
   "cell_type": "code",
   "execution_count": null,
   "id": "34ee8981-d3cb-496d-8b8d-ca2259f0a6a4",
   "metadata": {},
   "outputs": [],
   "source": [
    "with open(f'{file_name}.txt', \"w\", encoding=\"utf-8\") as file:\n",
    "    for song in song_obj.get('songs'):\n",
    "        lyrics = song.get(\"lyrics\")\n",
    "        file.write(lyrics)\n",
    "        file.write(\"\\n============================\\n\")\n",
    "        file.write(\"\\n\")"
   ]
  }
 ],
 "metadata": {
  "kernelspec": {
   "display_name": "nlp_venv",
   "language": "python",
   "name": "nlp_venv"
  },
  "language_info": {
   "codemirror_mode": {
    "name": "ipython",
    "version": 3
   },
   "file_extension": ".py",
   "mimetype": "text/x-python",
   "name": "python",
   "nbconvert_exporter": "python",
   "pygments_lexer": "ipython3",
   "version": "3.10.9"
  }
 },
 "nbformat": 4,
 "nbformat_minor": 5
}
