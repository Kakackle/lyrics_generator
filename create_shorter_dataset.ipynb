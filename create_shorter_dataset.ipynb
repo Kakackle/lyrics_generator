{
 "cells": [
  {
   "cell_type": "markdown",
   "id": "9008aba2-5ef9-4e8a-8919-26319737f163",
   "metadata": {},
   "source": [
    "### Create a new dataset from a portion of a bigger dataset"
   ]
  },
  {
   "cell_type": "code",
   "execution_count": 1,
   "id": "eb4b6e16-d32c-47d2-976c-b41b6c6f9eb5",
   "metadata": {},
   "outputs": [],
   "source": [
    "filename = \"mfdoom_100.txt\""
   ]
  },
  {
   "cell_type": "code",
   "execution_count": 9,
   "id": "63945026-2a66-4a56-8050-9f96d2fe643f",
   "metadata": {},
   "outputs": [],
   "source": [
    "new_filename = \"mfdoom_10.txt\""
   ]
  },
  {
   "cell_type": "code",
   "execution_count": 10,
   "id": "1b231df2-a881-4f22-acd8-2b89474eef7e",
   "metadata": {},
   "outputs": [],
   "source": [
    "desired_percent = 0.1"
   ]
  },
  {
   "cell_type": "code",
   "execution_count": 11,
   "id": "3cfc2fc4-0f80-4922-afd2-10da92c58ba6",
   "metadata": {},
   "outputs": [],
   "source": [
    "new_lines = []\n",
    "with open(filename, 'r', encoding='UTF-8') as dataset_file:\n",
    "    dataset_lines = [line for line in dataset_file]\n",
    "    dataset_len = len(dataset_lines)\n",
    "    new_lines = dataset_lines[:int(dataset_len * 0.5)]"
   ]
  },
  {
   "cell_type": "code",
   "execution_count": 12,
   "id": "bc7158dd-9abb-41a1-9d64-bcfe4e6e4f5e",
   "metadata": {},
   "outputs": [],
   "source": [
    "with open(new_filename, \"w\", encoding=\"utf-8\") as file:\n",
    "    file.writelines(new_lines)"
   ]
  }
 ],
 "metadata": {
  "kernelspec": {
   "display_name": "nlp_venv",
   "language": "python",
   "name": "nlp_venv"
  },
  "language_info": {
   "codemirror_mode": {
    "name": "ipython",
    "version": 3
   },
   "file_extension": ".py",
   "mimetype": "text/x-python",
   "name": "python",
   "nbconvert_exporter": "python",
   "pygments_lexer": "ipython3",
   "version": "3.10.9"
  }
 },
 "nbformat": 4,
 "nbformat_minor": 5
}
