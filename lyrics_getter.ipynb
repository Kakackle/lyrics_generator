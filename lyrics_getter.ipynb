{
 "cells": [
  {
   "cell_type": "code",
   "execution_count": 1,
   "id": "43f7a07a-f13b-4942-82cc-6eab70ed8af1",
   "metadata": {},
   "outputs": [],
   "source": [
    "from lyricsgenius import Genius"
   ]
  },
  {
   "cell_type": "code",
   "execution_count": 2,
   "id": "ad087656-85e0-4562-af13-17b021d888e1",
   "metadata": {},
   "outputs": [],
   "source": [
    "token = \"WXkONM9Mk2N5FPms4RDb75b68Zq-ekjmQTgx-1MVS-TssgGGPG6A9THg0vhkOjnL\""
   ]
  },
  {
   "cell_type": "code",
   "execution_count": 3,
   "id": "d93bb6d8-77ab-4320-8afb-053d72d9d24d",
   "metadata": {},
   "outputs": [
    {
     "name": "stdout",
     "output_type": "stream",
     "text": [
      "Searching for songs by MF DOOM...\n",
      "\n",
      "Song 1: \"Doomsday\"\n",
      "Song 2: \"Rapp Snitch Knishes\"\n",
      "Song 3: \"Beef Rap\"\n",
      "Song 4: \"One Beer\"\n",
      "Song 5: \"Hoe Cakes\"\n",
      "Song 6: \"That’s That\"\n",
      "Song 7: \"Rhymes Like Dimes\"\n",
      "Song 8: \"Deep Fried Frenz\"\n",
      "Song 9: \"Potholderz\"\n",
      "Song 10: \"Gazzillion Ear\"\n",
      "Song 11: \"Vomitspit\"\n",
      "Song 12: \"? (Question Mark)\"\n",
      "Song 13: \"All Outta Ale\"\n",
      "Song 14: \"Kon Karne\"\n",
      "Song 15: \"Kookies\"\n",
      "Song 16: \"Kon Queso\"\n",
      "Song 17: \"Gas Drawls\"\n",
      "Song 18: \"Batty Boyz\"\n",
      "Song 19: \"Guinnessez\"\n",
      "Song 20: \"Red and Gold\"\n",
      "Song 21: \"Tick, Tick...\"\n",
      "Song 22: \"Cellz\"\n",
      "Song 23: \"My Favorite Ladies\"\n",
      "Song 24: \"The Finest\"\n",
      "Song 25: \"Hey!\"\n",
      "Song 26: \"Dead Bent\"\n",
      "Song 27: \"Absolutely\"\n",
      "Song 28: \"Go with the Flow\"\n",
      "Song 29: \"Who You Think I Am?\"\n",
      "Song 30: \"Ballskin\"\n",
      "Song 31: \"Angelz\"\n",
      "Song 32: \"Microwave Mayo\"\n",
      "Song 33: \"The M.I.C.\"\n",
      "Song 34: \"Poo-Putt Platter\"\n",
      "Song 35: \"Operation: Greenbacks\"\n",
      "Song 36: \"More Rhymin’\"\n",
      "Song 37: \"Fig Leaf Bi-Carbonate\"\n",
      "Song 38: \"I Hear Voices Pt.1\"\n",
      "Song 39: \"Lightworks\"\n",
      "Song 40: \"Yessir!\"\n",
      "Song 41: \"Gumbo\"\n",
      "Song 42: \"Coffin Nails\"\n",
      "Song 43: \"True Lightyears\"\n",
      "Song 44: \"Fillet-O-Rapper\"\n",
      "Song 45: \"The Time We Faced Doom\"\n",
      "Song 46: \"Rap Ambush\"\n",
      "Song 47: \"Lavender Buds\"\n",
      "Song 48: \"Supervillainz\"\n",
      "Song 49: \"I Hear Voices\"\n",
      "Song 50: \"Still Dope\"\n",
      "Song 51: \"Hero vs. Villain (Epilogue)\"\n",
      "\"Guv’nor (BADBADNOTGOOD Remix)\" is not valid. Skipping.\n",
      "Song 52: \"Back in the Days\"\n",
      "Song 53: \"The Hands of Doom\"\n",
      "Song 54: \"Bells of DOOM\"\n",
      "Song 55: \"Hot Guacamole\"\n",
      "Song 56: \"Trap Door\"\n",
      "\"Super Friendz (Edan Remix)\" is not valid. Skipping.\n",
      "Song 57: \"Supervillain Intro\"\n",
      "Song 58: \"Lunch Break\"\n",
      "Song 59: \"Doom, Are You Awake?\"\n",
      "Song 60: \"Arrow Root\"\n",
      "Song 61: \"Pennyroyal\"\n",
      "\"Somersault (Danger Mouse Remix)\" is not valid. Skipping.\n",
      "Song 62: \"HYDROCHOLRIC ACID\"\n",
      "Song 63: \"Bumpy’s Message\"\n",
      "Song 64: \"Thank Ya\"\n",
      "Song 65: \"Change the Beat\"\n",
      "\"Tonight May Have To Last Me All My Life (MF DOOM Remix)\" is not valid. Skipping.\n",
      "Song 66: \"Hooks is Extra\"\n",
      "Song 67: \"The Mystery of Doom (Skit)\"\n",
      "Song 68: \"Is He Ill?\"\n",
      "Song 69: \"Notebook 03\"\n",
      "Song 70: \"Saffron\"\n",
      "Song 71: \"Licorice\"\n",
      "Song 72: \"Notebook 02 - Doomsayer\"\n",
      "Song 73: \"? (Extended Raw Rhymes Version)\"\n",
      "\"Melody (Remix)\" is not valid. Skipping.\n",
      "\"What A Nigga Know? (Remix)\" is not valid. Skipping.\n",
      "\"Doomsayer (Young Guru Remix)\" is not valid. Skipping.\n",
      "\"El Chupa Nibre (Remix)\" is not valid. Skipping.\n",
      "Song 74: \"Mash’s Revenge\"\n",
      "\"Gazzillion Ear (Thom Yorke Remix)\" is not valid. Skipping.\n",
      "Song 75: \"Cellz Pt. 2\"\n",
      "Song 76: \"Lemon Grass\"\n",
      "Song 77: \"Datura Stramonium\"\n",
      "\"Terry (Remix)\" is not valid. Skipping.\n",
      "Song 78: \"Hey! (Original 12\" Version)\"\n",
      "Song 79: \"Notebook 04\"\n",
      "Song 80: \"The.Green.Whore.Net\"\n",
      "Song 81: \"Valerian Root\"\n",
      "Song 82: \"White Willow Bark\"\n",
      "Song 83: \"Styrax Gum\"\n",
      "Song 84: \"High John\"\n",
      "\"Space Ho’s (Madlib Remix)\" is not valid. Skipping.\n",
      "\"Coco Mango (FloFilz Remix)\" is not valid. Skipping.\n",
      "\"Sofa King (Danger Mouse Remix)\" is not valid. Skipping.\n",
      "Song 85: \"Checkmate\"\n",
      "Song 86: \"Sarsaparilla\"\n",
      "Song 87: \"Notebook 06\"\n",
      "\"Accordion (Four Tet Remix)\" is not valid. Skipping.\n",
      "Song 88: \"No Snakes Alive (MF EP Version)\"\n",
      "\"Banished (Beck Remix)\" is not valid. Skipping.\n",
      "Song 89: \"Benzoin Gum\"\n",
      "Song 90: \"Charnsuka\"\n",
      "Song 91: \"Vomit\"\n",
      "Song 92: \"Monosodium Glutamate\"\n",
      "Song 93: \"Eucalyptus\"\n",
      "Song 94: \"Mandrake\"\n",
      "Song 95: \"Burdock Root\"\n",
      "\"Pop Quiz (Remix)\" is not valid. Skipping.\n",
      "Song 96: \"Zatar\"\n",
      "Song 97: \"All Outta Ale (The Professor Meets The Supervillain)\"\n",
      "Song 98: \"Dead Bent (Original 12\" Version)\"\n",
      "\"Pop Quiz (Bonus Extra Credit Remix)\" is not valid. Skipping.\n",
      "Song 99: \"Agrimony\"\n",
      "Song 100: \"Coco Mango (Y Society Power Outage Mix)\"\n",
      "\n",
      "Reached user-specified song limit (100).\n",
      "Done. Found 100 songs.\n",
      "[Song(id, artist, ...), Song(id, artist, ...), Song(id, artist, ...), Song(id, artist, ...), Song(id, artist, ...), Song(id, artist, ...), Song(id, artist, ...), Song(id, artist, ...), Song(id, artist, ...), Song(id, artist, ...), Song(id, artist, ...), Song(id, artist, ...), Song(id, artist, ...), Song(id, artist, ...), Song(id, artist, ...), Song(id, artist, ...), Song(id, artist, ...), Song(id, artist, ...), Song(id, artist, ...), Song(id, artist, ...), Song(id, artist, ...), Song(id, artist, ...), Song(id, artist, ...), Song(id, artist, ...), Song(id, artist, ...), Song(id, artist, ...), Song(id, artist, ...), Song(id, artist, ...), Song(id, artist, ...), Song(id, artist, ...), Song(id, artist, ...), Song(id, artist, ...), Song(id, artist, ...), Song(id, artist, ...), Song(id, artist, ...), Song(id, artist, ...), Song(id, artist, ...), Song(id, artist, ...), Song(id, artist, ...), Song(id, artist, ...), Song(id, artist, ...), Song(id, artist, ...), Song(id, artist, ...), Song(id, artist, ...), Song(id, artist, ...), Song(id, artist, ...), Song(id, artist, ...), Song(id, artist, ...), Song(id, artist, ...), Song(id, artist, ...), Song(id, artist, ...), Song(id, artist, ...), Song(id, artist, ...), Song(id, artist, ...), Song(id, artist, ...), Song(id, artist, ...), Song(id, artist, ...), Song(id, artist, ...), Song(id, artist, ...), Song(id, artist, ...), Song(id, artist, ...), Song(id, artist, ...), Song(id, artist, ...), Song(id, artist, ...), Song(id, artist, ...), Song(id, artist, ...), Song(id, artist, ...), Song(id, artist, ...), Song(id, artist, ...), Song(id, artist, ...), Song(id, artist, ...), Song(id, artist, ...), Song(id, artist, ...), Song(id, artist, ...), Song(id, artist, ...), Song(id, artist, ...), Song(id, artist, ...), Song(id, artist, ...), Song(id, artist, ...), Song(id, artist, ...), Song(id, artist, ...), Song(id, artist, ...), Song(id, artist, ...), Song(id, artist, ...), Song(id, artist, ...), Song(id, artist, ...), Song(id, artist, ...), Song(id, artist, ...), Song(id, artist, ...), Song(id, artist, ...), Song(id, artist, ...), Song(id, artist, ...), Song(id, artist, ...), Song(id, artist, ...), Song(id, artist, ...), Song(id, artist, ...), Song(id, artist, ...), Song(id, artist, ...), Song(id, artist, ...), Song(id, artist, ...)]\n"
     ]
    }
   ],
   "source": [
    "genius = Genius(token)\n",
    "\n",
    "# Turn off status messages\n",
    "genius.verbose = True\n",
    "\n",
    "# Remove section headers (e.g. [Chorus]) from lyrics when searching\n",
    "genius.remove_section_headers = True\n",
    "\n",
    "# Exclude songs with these words in their title\n",
    "genius.excluded_terms = [\"(Remix)\", \"(Live), (Instrumental)\"]\n",
    "\n",
    "artist = genius.search_artist(\"MF DOOM\", max_songs=100, sort=\"popularity\")\n",
    "print(artist.songs)"
   ]
  },
  {
   "cell_type": "code",
   "execution_count": 4,
   "id": "093a9b42-3909-4048-bd8b-cd0893852b77",
   "metadata": {},
   "outputs": [
    {
     "name": "stdout",
     "output_type": "stream",
     "text": [
      "Wrote mfdoom_100.json.\n"
     ]
    }
   ],
   "source": [
    "artist.save_lyrics(filename=\"mfdoom_100\", extension=\"json\")"
   ]
  },
  {
   "cell_type": "markdown",
   "id": "6868ebfa-0a17-4afe-8516-961303ae345a",
   "metadata": {},
   "source": [
    "#### Transform the data to plainfile"
   ]
  },
  {
   "cell_type": "code",
   "execution_count": 6,
   "id": "5c7ef687-03b8-4b20-804b-bf417cddeba8",
   "metadata": {},
   "outputs": [],
   "source": [
    "import json\n",
    "json_file = open(\"mfdoom_100.json\")\n",
    "song_obj = json.load(json_file)\n",
    "json_file.close()"
   ]
  },
  {
   "cell_type": "code",
   "execution_count": 14,
   "id": "91ac1781-03ad-431d-b3ce-fca41ac1bea9",
   "metadata": {},
   "outputs": [],
   "source": [
    "# song_obj\n",
    "# song_obj.get('songs')[0]"
   ]
  },
  {
   "cell_type": "code",
   "execution_count": 7,
   "id": "e5ef9df3-6bb6-4336-bddf-64b1f198f492",
   "metadata": {},
   "outputs": [],
   "source": [
    "with open(\"mfdoom_100.txt\", \"w\", encoding=\"utf-8\") as file:\n",
    "    for song in song_obj.get('songs'):\n",
    "        lyrics = song.get(\"lyrics\")\n",
    "        file.write(lyrics)\n",
    "        file.write(\"\\n============================\\n\")\n",
    "        file.write(\"\\n\")"
   ]
  }
 ],
 "metadata": {
  "kernelspec": {
   "display_name": "nlp_venv",
   "language": "python",
   "name": "nlp_venv"
  },
  "language_info": {
   "codemirror_mode": {
    "name": "ipython",
    "version": 3
   },
   "file_extension": ".py",
   "mimetype": "text/x-python",
   "name": "python",
   "nbconvert_exporter": "python",
   "pygments_lexer": "ipython3",
   "version": "3.10.9"
  }
 },
 "nbformat": 4,
 "nbformat_minor": 5
}
