{
 "cells": [
  {
   "cell_type": "code",
   "execution_count": 1,
   "id": "43f7a07a-f13b-4942-82cc-6eab70ed8af1",
   "metadata": {},
   "outputs": [],
   "source": [
    "from lyricsgenius import Genius"
   ]
  },
  {
   "cell_type": "code",
   "execution_count": 3,
   "id": "ad087656-85e0-4562-af13-17b021d888e1",
   "metadata": {},
   "outputs": [],
   "source": [
    "token = \"WXkONM9Mk2N5FPms4RDb75b68Zq-ekjmQTgx-1MVS-TssgGGPG6A9THg0vhkOjnL\""
   ]
  },
  {
   "cell_type": "code",
   "execution_count": 5,
   "id": "d93bb6d8-77ab-4320-8afb-053d72d9d24d",
   "metadata": {},
   "outputs": [
    {
     "name": "stdout",
     "output_type": "stream",
     "text": [
      "Searching for songs by MF DOOM...\n",
      "\n",
      "Song 1: \"Absolutely\"\n",
      "\"Accordion (Four Tet Remix)\" is not valid. Skipping.\n",
      "Song 2: \"Accordion (Live)\"\n",
      "Song 3: \"Act 1\"\n",
      "Song 4: \"Act 2\"\n",
      "Song 5: \"Agrimony\"\n",
      "\"Aire (Remix)\" is not valid. Skipping.\n",
      "Song 6: \"All Outta Ale\"\n",
      "Song 7: \"All Outta Ale (The Professor Meets The Supervillain)\"\n",
      "Song 8: \"All Spice\"\n",
      "\"Altaïr\" is not valid. Skipping.\n",
      "\"America’s Most Blunted (Doom’s Verse) (Koushik Remix)\" is not valid. Skipping.\n",
      "\"Anfitrião (MF Doom & MF Grimm - Dedicated - Remix)\" is not valid. Skipping.\n",
      "Song 9: \"Angelz\"\n",
      "Song 10: \"Anti-social\"\n",
      "\n",
      "Reached user-specified song limit (10).\n",
      "Done. Found 10 songs.\n",
      "[Song(id, artist, ...), Song(id, artist, ...), Song(id, artist, ...), Song(id, artist, ...), Song(id, artist, ...), Song(id, artist, ...), Song(id, artist, ...), Song(id, artist, ...), Song(id, artist, ...), Song(id, artist, ...)]\n"
     ]
    }
   ],
   "source": [
    "genius = Genius(token)\n",
    "\n",
    "# Turn off status messages\n",
    "genius.verbose = True\n",
    "\n",
    "# Remove section headers (e.g. [Chorus]) from lyrics when searching\n",
    "genius.remove_section_headers = True\n",
    "\n",
    "# Exclude songs with these words in their title\n",
    "genius.excluded_terms = [\"(Remix)\", \"(Live), (Instrumental)\"]\n",
    "\n",
    "artist = genius.search_artist(\"MF DOOM\", max_songs=10, sort=\"title\")\n",
    "print(artist.songs)"
   ]
  },
  {
   "cell_type": "code",
   "execution_count": 6,
   "id": "093a9b42-3909-4048-bd8b-cd0893852b77",
   "metadata": {},
   "outputs": [
    {
     "name": "stdout",
     "output_type": "stream",
     "text": [
      "Wrote Lyrics_MFDOOM.json.\n"
     ]
    }
   ],
   "source": [
    "artist.save_lyrics()"
   ]
  },
  {
   "cell_type": "markdown",
   "id": "6868ebfa-0a17-4afe-8516-961303ae345a",
   "metadata": {},
   "source": [
    "#### Transform the data to plainfile"
   ]
  },
  {
   "cell_type": "code",
   "execution_count": 15,
   "id": "5c7ef687-03b8-4b20-804b-bf417cddeba8",
   "metadata": {},
   "outputs": [],
   "source": [
    "import json\n",
    "json_file = open(\"Lyrics_MFDOOM.json\")\n",
    "song_obj = json.load(json_file)\n",
    "json_file.close()"
   ]
  },
  {
   "cell_type": "code",
   "execution_count": 14,
   "id": "91ac1781-03ad-431d-b3ce-fca41ac1bea9",
   "metadata": {},
   "outputs": [],
   "source": [
    "# song_obj\n",
    "# song_obj.get('songs')[0]"
   ]
  },
  {
   "cell_type": "code",
   "execution_count": 18,
   "id": "e5ef9df3-6bb6-4336-bddf-64b1f198f492",
   "metadata": {},
   "outputs": [],
   "source": [
    "with open(\"doom_lyrics_10.txt\", \"w\", encoding=\"utf-8\") as file:\n",
    "    for song in song_obj.get('songs'):\n",
    "        lyrics = song.get(\"lyrics\")\n",
    "        file.write(lyrics)\n",
    "        file.write(\"\\n============================\\n\")\n",
    "        file.write(\"\\n\")"
   ]
  }
 ],
 "metadata": {
  "kernelspec": {
   "display_name": "nlp_venv",
   "language": "python",
   "name": "nlp_venv"
  },
  "language_info": {
   "codemirror_mode": {
    "name": "ipython",
    "version": 3
   },
   "file_extension": ".py",
   "mimetype": "text/x-python",
   "name": "python",
   "nbconvert_exporter": "python",
   "pygments_lexer": "ipython3",
   "version": "3.10.9"
  }
 },
 "nbformat": 4,
 "nbformat_minor": 5
}
